{
 "cells": [
  {
   "cell_type": "markdown",
   "id": "49779036",
   "metadata": {},
   "source": [
    "## NLP : Regular Expressions"
   ]
  },
  {
   "cell_type": "markdown",
   "id": "8926fbcd",
   "metadata": {},
   "source": [
    "### 1) Regex in customer support\n",
    "#### Retrieve order number"
   ]
  },
  {
   "cell_type": "code",
   "execution_count": 5,
   "id": "d8b37356",
   "metadata": {},
   "outputs": [
    {
     "data": {
      "text/plain": [
       "['412889912']"
      ]
     },
     "execution_count": 5,
     "metadata": {},
     "output_type": "execute_result"
    }
   ],
   "source": [
    "import re\n",
    "\n",
    "chat1='User : Hello, I am having an issue with my order # 412889912'\n",
    "\n",
    "pattern = 'order[^\\d]*(\\d*)'\n",
    "matches = re.findall(pattern, chat1)\n",
    "matches"
   ]
  },
  {
   "cell_type": "code",
   "execution_count": 6,
   "id": "400a48d9",
   "metadata": {},
   "outputs": [
    {
     "data": {
      "text/plain": [
       "['412889912']"
      ]
     },
     "execution_count": 6,
     "metadata": {},
     "output_type": "execute_result"
    }
   ],
   "source": [
    "chat2='User : I have a problem with my order number 412889912'\n",
    "pattern = 'order[^\\d]*(\\d*)'\n",
    "matches = re.findall(pattern, chat2)\n",
    "matches"
   ]
  },
  {
   "cell_type": "code",
   "execution_count": 7,
   "id": "c78098a6",
   "metadata": {},
   "outputs": [
    {
     "data": {
      "text/plain": [
       "['412889912']"
      ]
     },
     "execution_count": 7,
     "metadata": {},
     "output_type": "execute_result"
    }
   ],
   "source": [
    "chat3='User : My order 412889912 is having an issue, I was charged 300$ when online it says 280$'\n",
    "pattern = 'order[^\\d]*(\\d*)'\n",
    "matches = re.findall(pattern, chat3)\n",
    "matches"
   ]
  },
  {
   "cell_type": "code",
   "execution_count": 8,
   "id": "8de8273c",
   "metadata": {},
   "outputs": [],
   "source": [
    "def get_pattern_match(pattern, text):\n",
    "    matches = re.findall(pattern, text)\n",
    "    if matches:\n",
    "        return matches[0]"
   ]
  },
  {
   "cell_type": "code",
   "execution_count": 9,
   "id": "2eef65bd",
   "metadata": {},
   "outputs": [
    {
     "data": {
      "text/plain": [
       "'412889912'"
      ]
     },
     "execution_count": 9,
     "metadata": {},
     "output_type": "execute_result"
    }
   ],
   "source": [
    "get_pattern_match('order[^\\d]*(\\d*)', chat1)"
   ]
  }
 ],
 "metadata": {
  "kernelspec": {
   "display_name": "venv",
   "language": "python",
   "name": "venv"
  },
  "language_info": {
   "codemirror_mode": {
    "name": "ipython",
    "version": 3
   },
   "file_extension": ".py",
   "mimetype": "text/x-python",
   "name": "python",
   "nbconvert_exporter": "python",
   "pygments_lexer": "ipython3",
   "version": "3.10.16"
  }
 },
 "nbformat": 4,
 "nbformat_minor": 5
}
